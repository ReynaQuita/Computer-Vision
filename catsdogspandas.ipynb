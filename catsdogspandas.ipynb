{
 "cells": [
  {
   "cell_type": "code",
   "execution_count": 2,
   "metadata": {},
   "outputs": [
    {
     "data": {
      "text/plain": [
       "'2.3.0'"
      ]
     },
     "execution_count": 2,
     "metadata": {},
     "output_type": "execute_result"
    }
   ],
   "source": [
    "import keras\n",
    "keras.__version__"
   ]
  },
  {
   "cell_type": "code",
   "execution_count": 3,
   "metadata": {},
   "outputs": [],
   "source": [
    "import os, shutil"
   ]
  },
  {
   "cell_type": "code",
   "execution_count": 4,
   "metadata": {},
   "outputs": [],
   "source": [
    "# The path to the directory where the original\n",
    "# dataset was uncompressed\n",
    "original_dataset_dir = 'D:/Google Drive/PhD Life/cats-vs-dogs-vs-pandas/kaggle_original_data'\n",
    "#'/Users/fchollet/Downloads/kaggle_original_data'\n",
    "\n",
    "# The directory where we will\n",
    "# store our smaller dataset\n",
    "base_dir = 'D:/Google Drive/PhD Life/cats-vs-dogs-vs-pandas/cats_and_dogs_and_pandas_small'\n",
    "os.mkdir(base_dir)\n",
    "\n",
    "# Directories for our training,\n",
    "# validation and test splits\n",
    "train_dir = os.path.join(base_dir, 'train')\n",
    "os.mkdir(train_dir)\n",
    "validation_dir = os.path.join(base_dir, 'validation')\n",
    "os.mkdir(validation_dir)\n",
    "test_dir = os.path.join(base_dir, 'test')\n",
    "os.mkdir(test_dir)\n",
    "\n",
    "# Directory with our training cat pictures\n",
    "train_cats_dir = os.path.join(train_dir, 'cats')\n",
    "os.mkdir(train_cats_dir)\n",
    "\n",
    "# Directory with our training dog pictures\n",
    "train_dogs_dir = os.path.join(train_dir, 'dogs')\n",
    "os.mkdir(train_dogs_dir)\n",
    "\n",
    "# Directory with our training panda pictures\n",
    "train_pandas_dir = os.path.join(train_dir, 'pandas')\n",
    "os.mkdir(train_pandas_dir)\n",
    "\n",
    "# Directory with our validation cat pictures\n",
    "validation_cats_dir = os.path.join(validation_dir, 'cats')\n",
    "os.mkdir(validation_cats_dir)\n",
    "\n",
    "# Directory with our validation dog pictures\n",
    "validation_dogs_dir = os.path.join(validation_dir, 'dogs')\n",
    "os.mkdir(validation_dogs_dir)\n",
    "\n",
    "# Directory with our validation panda pictures\n",
    "validation_pandas_dir = os.path.join(validation_dir, 'pandas')\n",
    "os.mkdir(validation_pandas_dir)\n",
    "\n",
    "# Directory with our validation cat pictures\n",
    "test_cats_dir = os.path.join(test_dir, 'cats')\n",
    "os.mkdir(test_cats_dir)\n",
    "\n",
    "# Directory with our validation dog pictures\n",
    "test_dogs_dir = os.path.join(test_dir, 'dogs')\n",
    "os.mkdir(test_dogs_dir)\n",
    "\n",
    "# Directory with our validation dog pictures\n",
    "test_pandas_dir = os.path.join(test_dir, 'pandas')\n",
    "os.mkdir(test_pandas_dir)\n",
    "\n",
    "# Copy first 700 cat images to train_cats_dir\n",
    "fnames = ['cat.{}.jpg'.format(i) for i in range(700)]\n",
    "for fname in fnames:\n",
    "    src = os.path.join(original_dataset_dir, fname)\n",
    "    dst = os.path.join(train_cats_dir, fname)\n",
    "    shutil.copyfile(src, dst)\n",
    "\n",
    "# Copy next 500 cat images to validation_cats_dir\n",
    "fnames = ['cat.{}.jpg'.format(i) for i in range(700, 1000)]\n",
    "for fname in fnames:\n",
    "    src = os.path.join(original_dataset_dir, fname)\n",
    "    dst = os.path.join(validation_cats_dir, fname)\n",
    "    shutil.copyfile(src, dst)\n",
    "    \n",
    "# Copy next 500 cat images to test_cats_dir\n",
    "fnames = ['cat.{}.jpg'.format(i) for i in range(1000, 1050)]\n",
    "for fname in fnames:\n",
    "    src = os.path.join(original_dataset_dir, fname)\n",
    "    dst = os.path.join(test_cats_dir, fname)\n",
    "    shutil.copyfile(src, dst)\n",
    "    \n",
    "# Copy first 1000 dog images to train_dogs_dir\n",
    "fnames = ['dog.{}.jpg'.format(i) for i in range(700)]\n",
    "for fname in fnames:\n",
    "    src = os.path.join(original_dataset_dir, fname)\n",
    "    dst = os.path.join(train_dogs_dir, fname)\n",
    "    shutil.copyfile(src, dst)\n",
    "    \n",
    "# Copy next 500 dog images to validation_dogs_dir\n",
    "fnames = ['dog.{}.jpg'.format(i) for i in range(700, 1000)]\n",
    "for fname in fnames:\n",
    "    src = os.path.join(original_dataset_dir, fname)\n",
    "    dst = os.path.join(validation_dogs_dir, fname)\n",
    "    shutil.copyfile(src, dst)\n",
    "    \n",
    "# Copy next 500 dog images to test_dogs_dir\n",
    "fnames = ['dog.{}.jpg'.format(i) for i in range(1000, 1050)]\n",
    "for fname in fnames:\n",
    "    src = os.path.join(original_dataset_dir, fname)\n",
    "    dst = os.path.join(test_dogs_dir, fname)\n",
    "    shutil.copyfile(src, dst)\n",
    "    \n",
    "    # Copy first 1000 dog images to train_dogs_dir\n",
    "fnames = ['panda.{}.jpg'.format(i) for i in range(700)]\n",
    "for fname in fnames:\n",
    "    src = os.path.join(original_dataset_dir, fname)\n",
    "    dst = os.path.join(train_pandas_dir, fname)\n",
    "    shutil.copyfile(src, dst)\n",
    "    \n",
    "# Copy next 500 dog images to validation_dogs_dir\n",
    "fnames = ['panda.{}.jpg'.format(i) for i in range(700, 1000)]\n",
    "for fname in fnames:\n",
    "    src = os.path.join(original_dataset_dir, fname)\n",
    "    dst = os.path.join(validation_pandas_dir, fname)\n",
    "    shutil.copyfile(src, dst)\n",
    "    \n",
    "# Copy next 500 dog images to test_dogs_dir\n",
    "#fnames = ['panda_{}.jpg'.format(i) for i in range(1000, 1050)]\n",
    "#for fname in fnames:\n",
    "#    src = os.path.join(original_dataset_dir, fname)\n",
    "#    dst = os.path.join(test_pandas_dir, fname)\n",
    "#    shutil.copyfile(src, dst)"
   ]
  },
  {
   "cell_type": "code",
   "execution_count": 5,
   "metadata": {},
   "outputs": [
    {
     "name": "stdout",
     "output_type": "stream",
     "text": [
      "total training cat images: 700\n"
     ]
    }
   ],
   "source": [
    "print('total training cat images:', len(os.listdir(train_cats_dir)))"
   ]
  },
  {
   "cell_type": "code",
   "execution_count": 6,
   "metadata": {},
   "outputs": [
    {
     "name": "stdout",
     "output_type": "stream",
     "text": [
      "total training dog images: 700\n"
     ]
    }
   ],
   "source": [
    "print('total training dog images:', len(os.listdir(train_dogs_dir)))"
   ]
  },
  {
   "cell_type": "code",
   "execution_count": 7,
   "metadata": {},
   "outputs": [
    {
     "name": "stdout",
     "output_type": "stream",
     "text": [
      "total training panda images: 700\n"
     ]
    }
   ],
   "source": [
    "print('total training panda images:', len(os.listdir(train_pandas_dir)))"
   ]
  },
  {
   "cell_type": "code",
   "execution_count": 8,
   "metadata": {},
   "outputs": [
    {
     "name": "stdout",
     "output_type": "stream",
     "text": [
      "total validation cat images: 300\n"
     ]
    }
   ],
   "source": [
    "print('total validation cat images:', len(os.listdir(validation_cats_dir)))"
   ]
  },
  {
   "cell_type": "code",
   "execution_count": 9,
   "metadata": {},
   "outputs": [
    {
     "name": "stdout",
     "output_type": "stream",
     "text": [
      "total validation dog images: 300\n"
     ]
    }
   ],
   "source": [
    "print('total validation dog images:', len(os.listdir(validation_dogs_dir)))"
   ]
  },
  {
   "cell_type": "code",
   "execution_count": 10,
   "metadata": {},
   "outputs": [
    {
     "name": "stdout",
     "output_type": "stream",
     "text": [
      "total validation panda images: 300\n"
     ]
    }
   ],
   "source": [
    "print('total validation panda images:', len(os.listdir(validation_pandas_dir)))"
   ]
  },
  {
   "cell_type": "code",
   "execution_count": 11,
   "metadata": {},
   "outputs": [
    {
     "name": "stdout",
     "output_type": "stream",
     "text": [
      "total test cat images: 50\n"
     ]
    }
   ],
   "source": [
    "print('total test cat images:', len(os.listdir(test_cats_dir)))"
   ]
  },
  {
   "cell_type": "code",
   "execution_count": 12,
   "metadata": {},
   "outputs": [
    {
     "name": "stdout",
     "output_type": "stream",
     "text": [
      "total test dog images: 50\n"
     ]
    }
   ],
   "source": [
    "print('total test dog images:', len(os.listdir(test_dogs_dir)))"
   ]
  },
  {
   "cell_type": "code",
   "execution_count": 13,
   "metadata": {},
   "outputs": [
    {
     "name": "stdout",
     "output_type": "stream",
     "text": [
      "total test dog images: 0\n"
     ]
    }
   ],
   "source": [
    "print('total test dog images:', len(os.listdir(test_pandas_dir)))"
   ]
  },
  {
   "cell_type": "code",
   "execution_count": 14,
   "metadata": {},
   "outputs": [
    {
     "name": "stdout",
     "output_type": "stream",
     "text": [
      "WARNING:tensorflow:From C:\\Users\\user\\Anaconda3\\envs\\tensorflow\\lib\\site-packages\\keras\\backend\\tensorflow_backend.py:4070: The name tf.nn.max_pool is deprecated. Please use tf.nn.max_pool2d instead.\n",
      "\n"
     ]
    }
   ],
   "source": [
    "from keras import layers\n",
    "from keras import models\n",
    "from keras import optimizers\n",
    "\n",
    "model = models.Sequential()\n",
    "model.add(layers.Conv2D(32, (3, 3), activation='relu',\n",
    "                        input_shape=(150, 150, 3)))\n",
    "model.add(layers.MaxPooling2D((2, 2)))\n",
    "model.add(layers.Conv2D(64, (3, 3), activation='relu'))\n",
    "model.add(layers.MaxPooling2D((2, 2)))\n",
    "model.add(layers.Conv2D(128, (3, 3), activation='relu'))\n",
    "model.add(layers.MaxPooling2D((2, 2)))\n",
    "model.add(layers.Conv2D(128, (3, 3), activation='relu'))\n",
    "model.add(layers.MaxPooling2D((2, 2)))\n",
    "model.add(layers.Flatten())\n",
    "model.add(layers.Dropout(0.5))\n",
    "model.add(layers.Dense(512, activation='relu'))\n",
    "model.add(layers.Dense(3, activation='softmax'))\n",
    "\n",
    "model.compile(loss='categorical_crossentropy',\n",
    "              optimizer=optimizers.RMSprop(lr=1e-4),\n",
    "              metrics=['acc'])"
   ]
  },
  {
   "cell_type": "code",
   "execution_count": 15,
   "metadata": {},
   "outputs": [
    {
     "name": "stdout",
     "output_type": "stream",
     "text": [
      "Model: \"sequential_1\"\n",
      "_________________________________________________________________\n",
      "Layer (type)                 Output Shape              Param #   \n",
      "=================================================================\n",
      "conv2d_1 (Conv2D)            (None, 148, 148, 32)      896       \n",
      "_________________________________________________________________\n",
      "max_pooling2d_1 (MaxPooling2 (None, 74, 74, 32)        0         \n",
      "_________________________________________________________________\n",
      "conv2d_2 (Conv2D)            (None, 72, 72, 64)        18496     \n",
      "_________________________________________________________________\n",
      "max_pooling2d_2 (MaxPooling2 (None, 36, 36, 64)        0         \n",
      "_________________________________________________________________\n",
      "conv2d_3 (Conv2D)            (None, 34, 34, 128)       73856     \n",
      "_________________________________________________________________\n",
      "max_pooling2d_3 (MaxPooling2 (None, 17, 17, 128)       0         \n",
      "_________________________________________________________________\n",
      "conv2d_4 (Conv2D)            (None, 15, 15, 128)       147584    \n",
      "_________________________________________________________________\n",
      "max_pooling2d_4 (MaxPooling2 (None, 7, 7, 128)         0         \n",
      "_________________________________________________________________\n",
      "flatten_1 (Flatten)          (None, 6272)              0         \n",
      "_________________________________________________________________\n",
      "dropout_1 (Dropout)          (None, 6272)              0         \n",
      "_________________________________________________________________\n",
      "dense_1 (Dense)              (None, 512)               3211776   \n",
      "_________________________________________________________________\n",
      "dense_2 (Dense)              (None, 3)                 1539      \n",
      "=================================================================\n",
      "Total params: 3,454,147\n",
      "Trainable params: 3,454,147\n",
      "Non-trainable params: 0\n",
      "_________________________________________________________________\n"
     ]
    }
   ],
   "source": [
    "model.summary()"
   ]
  },
  {
   "cell_type": "code",
   "execution_count": 16,
   "metadata": {},
   "outputs": [
    {
     "name": "stdout",
     "output_type": "stream",
     "text": [
      "Found 2100 images belonging to 3 classes.\n",
      "Found 900 images belonging to 3 classes.\n"
     ]
    }
   ],
   "source": [
    "from keras.preprocessing.image import ImageDataGenerator\n",
    "\n",
    "train_datagen = ImageDataGenerator(\n",
    "    rescale=1./255,\n",
    "    rotation_range=40,\n",
    "    width_shift_range=0.2,\n",
    "    height_shift_range=0.2,\n",
    "    shear_range=0.2,\n",
    "    zoom_range=0.2,\n",
    "    horizontal_flip=True,)\n",
    "\n",
    "# Note that the validation data should not be augmented!\n",
    "test_datagen = ImageDataGenerator(rescale=1./255)\n",
    "\n",
    "train_generator = train_datagen.flow_from_directory(\n",
    "        # This is the target directory\n",
    "        train_dir,\n",
    "        # All images will be resized to 150x150\n",
    "        target_size=(150, 150),\n",
    "        batch_size=32,\n",
    "        # Since we use binary_crossentropy loss, we need binary labels\n",
    "        class_mode='categorical')\n",
    "\n",
    "validation_generator = test_datagen.flow_from_directory(\n",
    "        validation_dir,\n",
    "        target_size=(150, 150),\n",
    "        batch_size=32,\n",
    "        class_mode='categorical')"
   ]
  },
  {
   "cell_type": "code",
   "execution_count": 17,
   "metadata": {},
   "outputs": [
    {
     "name": "stdout",
     "output_type": "stream",
     "text": [
      "data batch shape: (32, 150, 150, 3)\n",
      "labels batch shape: (32, 3)\n"
     ]
    }
   ],
   "source": [
    "for data_batch, labels_batch in train_generator:\n",
    "    print('data batch shape:', data_batch.shape)\n",
    "    print('labels batch shape:', labels_batch.shape)\n",
    "    break"
   ]
  },
  {
   "cell_type": "code",
   "execution_count": 18,
   "metadata": {},
   "outputs": [
    {
     "name": "stdout",
     "output_type": "stream",
     "text": [
      "WARNING:tensorflow:From C:\\Users\\user\\Anaconda3\\envs\\tensorflow\\lib\\site-packages\\keras\\backend\\tensorflow_backend.py:422: The name tf.global_variables is deprecated. Please use tf.compat.v1.global_variables instead.\n",
      "\n",
      "Epoch 1/100\n",
      "100/100 [==============================] - 20s 200ms/step - loss: 0.9419 - acc: 0.5122 - val_loss: 0.6537 - val_acc: 0.5719\n",
      "Epoch 2/100\n",
      "100/100 [==============================] - 17s 172ms/step - loss: 0.8110 - acc: 0.5853 - val_loss: 1.4710 - val_acc: 0.5207\n",
      "Epoch 3/100\n",
      "100/100 [==============================] - 17s 170ms/step - loss: 0.7787 - acc: 0.6048 - val_loss: 0.7788 - val_acc: 0.6036\n",
      "Epoch 4/100\n",
      "100/100 [==============================] - 17s 171ms/step - loss: 0.7472 - acc: 0.6108 - val_loss: 0.7844 - val_acc: 0.6393\n",
      "Epoch 5/100\n",
      "100/100 [==============================] - 17s 175ms/step - loss: 0.7245 - acc: 0.6270 - val_loss: 0.8799 - val_acc: 0.5797\n",
      "Epoch 6/100\n",
      "100/100 [==============================] - 17s 172ms/step - loss: 0.6808 - acc: 0.6685 - val_loss: 0.7848 - val_acc: 0.6172\n",
      "Epoch 7/100\n",
      "100/100 [==============================] - 17s 169ms/step - loss: 0.6721 - acc: 0.6729 - val_loss: 0.6333 - val_acc: 0.6904\n",
      "Epoch 8/100\n",
      "100/100 [==============================] - 17s 172ms/step - loss: 0.6609 - acc: 0.6791 - val_loss: 0.5869 - val_acc: 0.6927\n",
      "Epoch 9/100\n",
      "100/100 [==============================] - 17s 174ms/step - loss: 0.6518 - acc: 0.6883 - val_loss: 0.6836 - val_acc: 0.7060\n",
      "Epoch 10/100\n",
      "100/100 [==============================] - 17s 170ms/step - loss: 0.6347 - acc: 0.7062 - val_loss: 0.6409 - val_acc: 0.7196\n",
      "Epoch 11/100\n",
      "100/100 [==============================] - 17s 170ms/step - loss: 0.6181 - acc: 0.7092 - val_loss: 0.8791 - val_acc: 0.7061\n",
      "Epoch 12/100\n",
      "100/100 [==============================] - 17s 171ms/step - loss: 0.6217 - acc: 0.7033 - val_loss: 0.6367 - val_acc: 0.7312\n",
      "Epoch 13/100\n",
      "100/100 [==============================] - 17s 168ms/step - loss: 0.5859 - acc: 0.7258 - val_loss: 0.5622 - val_acc: 0.7364\n",
      "Epoch 14/100\n",
      "100/100 [==============================] - 17s 167ms/step - loss: 0.5878 - acc: 0.7180 - val_loss: 0.8525 - val_acc: 0.7442\n",
      "Epoch 15/100\n",
      "100/100 [==============================] - 17s 167ms/step - loss: 0.5832 - acc: 0.7280 - val_loss: 0.6887 - val_acc: 0.6883\n",
      "Epoch 16/100\n",
      "100/100 [==============================] - 17s 171ms/step - loss: 0.5851 - acc: 0.7296 - val_loss: 0.5718 - val_acc: 0.6684\n",
      "Epoch 17/100\n",
      "100/100 [==============================] - 17s 167ms/step - loss: 0.5761 - acc: 0.7268 - val_loss: 1.0923 - val_acc: 0.6386\n",
      "Epoch 18/100\n",
      "100/100 [==============================] - 17s 169ms/step - loss: 0.5692 - acc: 0.7437 - val_loss: 0.5862 - val_acc: 0.7008\n",
      "Epoch 19/100\n",
      "100/100 [==============================] - 17s 171ms/step - loss: 0.5623 - acc: 0.7424 - val_loss: 1.0762 - val_acc: 0.5935\n",
      "Epoch 20/100\n",
      "100/100 [==============================] - 17s 170ms/step - loss: 0.5577 - acc: 0.7365 - val_loss: 1.0781 - val_acc: 0.7209\n",
      "Epoch 21/100\n",
      "100/100 [==============================] - 17s 167ms/step - loss: 0.5371 - acc: 0.7560 - val_loss: 0.6269 - val_acc: 0.7222\n",
      "Epoch 22/100\n",
      "100/100 [==============================] - 17s 167ms/step - loss: 0.5413 - acc: 0.7541 - val_loss: 0.4456 - val_acc: 0.7487\n",
      "Epoch 23/100\n",
      "100/100 [==============================] - 17s 171ms/step - loss: 0.5563 - acc: 0.7456 - val_loss: 0.7685 - val_acc: 0.6885\n",
      "Epoch 24/100\n",
      "100/100 [==============================] - 17s 174ms/step - loss: 0.5382 - acc: 0.7588 - val_loss: 0.8872 - val_acc: 0.7202\n",
      "Epoch 25/100\n",
      "100/100 [==============================] - 17s 167ms/step - loss: 0.5315 - acc: 0.7519 - val_loss: 0.4981 - val_acc: 0.6930\n",
      "Epoch 26/100\n",
      "100/100 [==============================] - 17s 175ms/step - loss: 0.5307 - acc: 0.7522 - val_loss: 0.4857 - val_acc: 0.7500\n",
      "Epoch 27/100\n",
      "100/100 [==============================] - 17s 170ms/step - loss: 0.5158 - acc: 0.7748 - val_loss: 0.7191 - val_acc: 0.6671\n",
      "Epoch 28/100\n",
      "100/100 [==============================] - 18s 177ms/step - loss: 0.5157 - acc: 0.7710 - val_loss: 0.8877 - val_acc: 0.7137\n",
      "Epoch 29/100\n",
      "100/100 [==============================] - 17s 165ms/step - loss: 0.5148 - acc: 0.7774 - val_loss: 0.3966 - val_acc: 0.7500\n",
      "Epoch 30/100\n",
      "100/100 [==============================] - 18s 180ms/step - loss: 0.4946 - acc: 0.7710 - val_loss: 0.6294 - val_acc: 0.7436\n",
      "Epoch 31/100\n",
      "100/100 [==============================] - 17s 168ms/step - loss: 0.5177 - acc: 0.7683 - val_loss: 0.7892 - val_acc: 0.6807\n",
      "Epoch 32/100\n",
      "100/100 [==============================] - 18s 181ms/step - loss: 0.4912 - acc: 0.7758 - val_loss: 0.7571 - val_acc: 0.7578\n",
      "Epoch 33/100\n",
      "100/100 [==============================] - 17s 168ms/step - loss: 0.4952 - acc: 0.7754 - val_loss: 0.4340 - val_acc: 0.7436\n",
      "Epoch 34/100\n",
      "100/100 [==============================] - 17s 171ms/step - loss: 0.4853 - acc: 0.7777 - val_loss: 0.3583 - val_acc: 0.7630\n",
      "Epoch 35/100\n",
      "100/100 [==============================] - 17s 169ms/step - loss: 0.5017 - acc: 0.7752 - val_loss: 0.5590 - val_acc: 0.7837\n",
      "Epoch 36/100\n",
      "100/100 [==============================] - 17s 166ms/step - loss: 0.4894 - acc: 0.7811 - val_loss: 0.8855 - val_acc: 0.7137\n",
      "Epoch 37/100\n",
      "100/100 [==============================] - 17s 168ms/step - loss: 0.4689 - acc: 0.7826 - val_loss: 1.3671 - val_acc: 0.7131\n",
      "Epoch 38/100\n",
      "100/100 [==============================] - 17s 170ms/step - loss: 0.4808 - acc: 0.7868 - val_loss: 0.9415 - val_acc: 0.7539\n",
      "Epoch 39/100\n",
      "100/100 [==============================] - 17s 168ms/step - loss: 0.4771 - acc: 0.7826 - val_loss: 0.6532 - val_acc: 0.6775\n",
      "Epoch 40/100\n",
      "100/100 [==============================] - 17s 167ms/step - loss: 0.4591 - acc: 0.7938 - val_loss: 0.7117 - val_acc: 0.6552\n",
      "Epoch 41/100\n",
      "100/100 [==============================] - 17s 173ms/step - loss: 0.4501 - acc: 0.8074 - val_loss: 0.7465 - val_acc: 0.7727\n",
      "Epoch 42/100\n",
      "100/100 [==============================] - 17s 169ms/step - loss: 0.4614 - acc: 0.7931 - val_loss: 0.3124 - val_acc: 0.6665\n",
      "Epoch 43/100\n",
      "100/100 [==============================] - 17s 167ms/step - loss: 0.4549 - acc: 0.7923 - val_loss: 0.4622 - val_acc: 0.7105\n",
      "Epoch 44/100\n",
      "100/100 [==============================] - 17s 167ms/step - loss: 0.4609 - acc: 0.7991 - val_loss: 0.5937 - val_acc: 0.7595\n",
      "Epoch 45/100\n",
      "100/100 [==============================] - 17s 170ms/step - loss: 0.4482 - acc: 0.7999 - val_loss: 0.8754 - val_acc: 0.6924\n",
      "Epoch 46/100\n",
      "100/100 [==============================] - 17s 166ms/step - loss: 0.4335 - acc: 0.8133 - val_loss: 0.5556 - val_acc: 0.7649\n",
      "Epoch 47/100\n",
      "100/100 [==============================] - 17s 168ms/step - loss: 0.4489 - acc: 0.8021 - val_loss: 0.8238 - val_acc: 0.7604\n",
      "Epoch 48/100\n",
      "100/100 [==============================] - 17s 167ms/step - loss: 0.4390 - acc: 0.8057 - val_loss: 0.8361 - val_acc: 0.7824\n",
      "Epoch 49/100\n",
      "100/100 [==============================] - 17s 170ms/step - loss: 0.4338 - acc: 0.8049 - val_loss: 1.2160 - val_acc: 0.7422\n",
      "Epoch 50/100\n",
      "100/100 [==============================] - 17s 166ms/step - loss: 0.4195 - acc: 0.8142 - val_loss: 0.8164 - val_acc: 0.7137\n",
      "Epoch 51/100\n",
      "100/100 [==============================] - 17s 169ms/step - loss: 0.4362 - acc: 0.8018 - val_loss: 0.5591 - val_acc: 0.7284\n",
      "Epoch 52/100\n",
      "100/100 [==============================] - 17s 172ms/step - loss: 0.4221 - acc: 0.8089 - val_loss: 0.4142 - val_acc: 0.7532\n",
      "Epoch 53/100\n",
      "100/100 [==============================] - 17s 170ms/step - loss: 0.4144 - acc: 0.8149 - val_loss: 1.0924 - val_acc: 0.7481\n",
      "Epoch 54/100\n",
      "100/100 [==============================] - 17s 168ms/step - loss: 0.4257 - acc: 0.8023 - val_loss: 0.5518 - val_acc: 0.7487\n",
      "Epoch 55/100\n",
      "100/100 [==============================] - 17s 169ms/step - loss: 0.4228 - acc: 0.8120 - val_loss: 0.4238 - val_acc: 0.7786\n",
      "Epoch 56/100\n",
      "100/100 [==============================] - 17s 171ms/step - loss: 0.4270 - acc: 0.8122 - val_loss: 0.3875 - val_acc: 0.7934\n",
      "Epoch 57/100\n",
      "100/100 [==============================] - 17s 171ms/step - loss: 0.4081 - acc: 0.8164 - val_loss: 0.5155 - val_acc: 0.7785\n",
      "Epoch 58/100\n",
      "100/100 [==============================] - 17s 166ms/step - loss: 0.4185 - acc: 0.8181 - val_loss: 0.5809 - val_acc: 0.7571\n",
      "Epoch 59/100\n",
      "100/100 [==============================] - 17s 173ms/step - loss: 0.4081 - acc: 0.8202 - val_loss: 0.6485 - val_acc: 0.7398\n",
      "Epoch 60/100\n",
      "100/100 [==============================] - 17s 168ms/step - loss: 0.4088 - acc: 0.8240 - val_loss: 0.6875 - val_acc: 0.7584\n",
      "Epoch 61/100\n",
      "100/100 [==============================] - 18s 176ms/step - loss: 0.4114 - acc: 0.8112 - val_loss: 0.9113 - val_acc: 0.7228\n",
      "Epoch 62/100\n",
      "100/100 [==============================] - 17s 166ms/step - loss: 0.4002 - acc: 0.8293 - val_loss: 1.5019 - val_acc: 0.7831\n",
      "Epoch 63/100\n",
      "100/100 [==============================] - 18s 184ms/step - loss: 0.3961 - acc: 0.8228 - val_loss: 1.1870 - val_acc: 0.7267\n",
      "Epoch 64/100\n",
      "100/100 [==============================] - 17s 167ms/step - loss: 0.4014 - acc: 0.8306 - val_loss: 0.9345 - val_acc: 0.7688\n",
      "Epoch 65/100\n",
      "100/100 [==============================] - 18s 184ms/step - loss: 0.3948 - acc: 0.8297 - val_loss: 0.7575 - val_acc: 0.7992\n",
      "Epoch 66/100\n",
      "100/100 [==============================] - 17s 167ms/step - loss: 0.4035 - acc: 0.8178 - val_loss: 0.5978 - val_acc: 0.7646\n",
      "Epoch 67/100\n",
      "100/100 [==============================] - 17s 171ms/step - loss: 0.3986 - acc: 0.8272 - val_loss: 0.4339 - val_acc: 0.7979\n",
      "Epoch 68/100\n",
      "100/100 [==============================] - 17s 166ms/step - loss: 0.3865 - acc: 0.8315 - val_loss: 0.5381 - val_acc: 0.7843\n",
      "Epoch 69/100\n",
      "100/100 [==============================] - 17s 168ms/step - loss: 0.3811 - acc: 0.8407 - val_loss: 0.7065 - val_acc: 0.7347\n",
      "Epoch 70/100\n",
      "100/100 [==============================] - 17s 173ms/step - loss: 0.3748 - acc: 0.8450 - val_loss: 0.4911 - val_acc: 0.7740\n",
      "Epoch 71/100\n",
      "100/100 [==============================] - 17s 168ms/step - loss: 0.3700 - acc: 0.8407 - val_loss: 0.7006 - val_acc: 0.7921\n",
      "Epoch 72/100\n",
      "100/100 [==============================] - 17s 168ms/step - loss: 0.3853 - acc: 0.8425 - val_loss: 0.8675 - val_acc: 0.6632\n",
      "Epoch 73/100\n",
      "100/100 [==============================] - 17s 167ms/step - loss: 0.3720 - acc: 0.8407 - val_loss: 0.9007 - val_acc: 0.7513\n",
      "Epoch 74/100\n",
      "100/100 [==============================] - 17s 171ms/step - loss: 0.3776 - acc: 0.8381 - val_loss: 0.5223 - val_acc: 0.7869\n",
      "Epoch 75/100\n",
      "100/100 [==============================] - 17s 167ms/step - loss: 0.3764 - acc: 0.8388 - val_loss: 0.4044 - val_acc: 0.7416\n",
      "Epoch 76/100\n",
      "100/100 [==============================] - 17s 168ms/step - loss: 0.3784 - acc: 0.8425 - val_loss: 0.4875 - val_acc: 0.8025\n",
      "Epoch 77/100\n",
      "100/100 [==============================] - 17s 168ms/step - loss: 0.3820 - acc: 0.8360 - val_loss: 0.6555 - val_acc: 0.7710\n",
      "Epoch 78/100\n",
      "100/100 [==============================] - 17s 170ms/step - loss: 0.3663 - acc: 0.8400 - val_loss: 0.5085 - val_acc: 0.7778\n",
      "Epoch 79/100\n",
      "100/100 [==============================] - 17s 167ms/step - loss: 0.3661 - acc: 0.8454 - val_loss: 0.7762 - val_acc: 0.7610\n",
      "Epoch 80/100\n",
      "100/100 [==============================] - 17s 168ms/step - loss: 0.3613 - acc: 0.8476 - val_loss: 0.5560 - val_acc: 0.7774\n",
      "Epoch 81/100\n",
      "100/100 [==============================] - 17s 170ms/step - loss: 0.3692 - acc: 0.8372 - val_loss: 0.4812 - val_acc: 0.7409\n",
      "Epoch 82/100\n",
      "100/100 [==============================] - 17s 170ms/step - loss: 0.3617 - acc: 0.8460 - val_loss: 0.5189 - val_acc: 0.7785\n",
      "Epoch 83/100\n",
      "100/100 [==============================] - 17s 167ms/step - loss: 0.3523 - acc: 0.8476 - val_loss: 0.4562 - val_acc: 0.7539\n",
      "Epoch 84/100\n",
      "100/100 [==============================] - 17s 168ms/step - loss: 0.3507 - acc: 0.8514 - val_loss: 0.7498 - val_acc: 0.7996\n",
      "Epoch 85/100\n",
      "100/100 [==============================] - 17s 170ms/step - loss: 0.3536 - acc: 0.8470 - val_loss: 0.7750 - val_acc: 0.7837\n",
      "Epoch 86/100\n",
      "100/100 [==============================] - 17s 168ms/step - loss: 0.3522 - acc: 0.8444 - val_loss: 0.6673 - val_acc: 0.7332\n",
      "Epoch 87/100\n",
      "100/100 [==============================] - 17s 167ms/step - loss: 0.3399 - acc: 0.8574 - val_loss: 0.8370 - val_acc: 0.7273\n",
      "Epoch 88/100\n",
      "100/100 [==============================] - 17s 169ms/step - loss: 0.3391 - acc: 0.8523 - val_loss: 0.5067 - val_acc: 0.7436\n",
      "Epoch 89/100\n",
      "100/100 [==============================] - 17s 173ms/step - loss: 0.3321 - acc: 0.8570 - val_loss: 0.7078 - val_acc: 0.7591\n",
      "Epoch 90/100\n",
      "100/100 [==============================] - 17s 174ms/step - loss: 0.3614 - acc: 0.8451 - val_loss: 0.4946 - val_acc: 0.8206\n",
      "Epoch 91/100\n",
      "100/100 [==============================] - 17s 174ms/step - loss: 0.3361 - acc: 0.8607 - val_loss: 0.5677 - val_acc: 0.7589\n",
      "Epoch 92/100\n",
      "100/100 [==============================] - 18s 182ms/step - loss: 0.3454 - acc: 0.8551 - val_loss: 0.6075 - val_acc: 0.8063\n",
      "Epoch 93/100\n",
      "100/100 [==============================] - 17s 169ms/step - loss: 0.3407 - acc: 0.8608 - val_loss: 0.1861 - val_acc: 0.7895\n",
      "Epoch 94/100\n",
      "100/100 [==============================] - 18s 179ms/step - loss: 0.3306 - acc: 0.8646 - val_loss: 0.2320 - val_acc: 0.7908\n",
      "Epoch 95/100\n",
      "100/100 [==============================] - 17s 170ms/step - loss: 0.3407 - acc: 0.8532 - val_loss: 0.6086 - val_acc: 0.7793\n",
      "Epoch 96/100\n",
      "100/100 [==============================] - 19s 186ms/step - loss: 0.3164 - acc: 0.8726 - val_loss: 0.4136 - val_acc: 0.7338\n",
      "Epoch 97/100\n",
      "100/100 [==============================] - 17s 168ms/step - loss: 0.3322 - acc: 0.8627 - val_loss: 1.0274 - val_acc: 0.7455\n",
      "Epoch 98/100\n",
      "100/100 [==============================] - 19s 185ms/step - loss: 0.3332 - acc: 0.8555 - val_loss: 0.5251 - val_acc: 0.7863\n",
      "Epoch 99/100\n",
      "100/100 [==============================] - 18s 176ms/step - loss: 0.3185 - acc: 0.8636 - val_loss: 0.4124 - val_acc: 0.8271\n",
      "Epoch 100/100\n",
      "100/100 [==============================] - 17s 172ms/step - loss: 0.3184 - acc: 0.8728 - val_loss: 0.6075 - val_acc: 0.7390\n"
     ]
    }
   ],
   "source": [
    "history = model.fit_generator(\n",
    "      train_generator,\n",
    "      steps_per_epoch=100,\n",
    "      epochs=100,\n",
    "      validation_data=validation_generator,\n",
    "      validation_steps=50)"
   ]
  },
  {
   "cell_type": "code",
   "execution_count": 19,
   "metadata": {},
   "outputs": [],
   "source": [
    "model.save('cats_dogs_pandas.h5')"
   ]
  },
  {
   "cell_type": "code",
   "execution_count": 20,
   "metadata": {},
   "outputs": [
    {
     "data": {
      "text/plain": [
       "<Figure size 640x480 with 1 Axes>"
      ]
     },
     "metadata": {},
     "output_type": "display_data"
    },
    {
     "data": {
      "text/plain": [
       "<Figure size 640x480 with 1 Axes>"
      ]
     },
     "metadata": {},
     "output_type": "display_data"
    }
   ],
   "source": [
    "import matplotlib.pyplot as plt\n",
    "\n",
    "acc = history.history['acc']\n",
    "val_acc = history.history['val_acc']\n",
    "loss = history.history['loss']\n",
    "val_loss = history.history['val_loss']\n",
    "\n",
    "epochs = range(len(acc))\n",
    "\n",
    "plt.plot(epochs, acc, 'bo', label='Training acc')\n",
    "plt.plot(epochs, val_acc, 'b', label='Validation acc')\n",
    "plt.title('Training and validation accuracy')\n",
    "plt.legend()\n",
    "\n",
    "plt.figure()\n",
    "\n",
    "plt.plot(epochs, loss, 'bo', label='Training loss')\n",
    "plt.plot(epochs, val_loss, 'b', label='Validation loss')\n",
    "plt.title('Training and validation loss')\n",
    "plt.legend()\n",
    "\n",
    "plt.show()"
   ]
  },
  {
   "cell_type": "code",
   "execution_count": 32,
   "metadata": {},
   "outputs": [
    {
     "name": "stdout",
     "output_type": "stream",
     "text": [
      "(1, 150, 150, 3)\n"
     ]
    }
   ],
   "source": [
    "#preprocessing a single image\n",
    "img_path = 'D:/Google Drive/PhD Life/cats-vs-dogs-vs-pandas/cats_and_dogs_and_pandas_small/test/dogs/dog.1001.jpg'\n",
    "\n",
    "# We preprocess the image into a 4D tensor\n",
    "from keras.preprocessing import image\n",
    "import numpy as np\n",
    "\n",
    "img = image.load_img(img_path, target_size=(150, 150))\n",
    "img_tensor = image.img_to_array(img)\n",
    "img_tensor = np.expand_dims(img_tensor, axis=0)\n",
    "# Remember that the model was trained on inputs\n",
    "# that were preprocessed in the following way:\n",
    "img_tensor /= 255.\n",
    "\n",
    "# Its shape is (1, 150, 150, 3)\n",
    "print(img_tensor.shape)"
   ]
  },
  {
   "cell_type": "code",
   "execution_count": 34,
   "metadata": {},
   "outputs": [
    {
     "data": {
      "image/png": "[encoded data removed]",
      "text/plain": [
       "<Figure size 432x288 with 1 Axes>"
      ]
     },
     "metadata": {
      "needs_background": "light"
     },
     "output_type": "display_data"
    },
    {
     "name": "stdout",
     "output_type": "stream",
     "text": [
      "[1]\n",
      "[[4.0063730e-01 5.9901869e-01 3.4399662e-04]]\n",
      "dogs\n"
     ]
    }
   ],
   "source": [
    "#displaying the test picture\n",
    "import matplotlib.pyplot as plt\n",
    "\n",
    "plt.imshow(img_tensor[0])\n",
    "plt.show()\n",
    "\n",
    "labels=[\"cats\", \"dogs\",\"pandas\"]\n",
    "\n",
    "classes = model.predict_classes(img_tensor)\n",
    "print(classes)\n",
    "\n",
    "y_prob = model.predict(img_tensor)\n",
    "print(y_prob)\n",
    "\n",
    "#print(np.argmax(y_prob))\n",
    "pred_name = labels[np.argmax(y_prob)]\n",
    "print(pred_name)"
   ]
  },
  {
   "cell_type": "code",
   "execution_count": null,
   "metadata": {},
   "outputs": [],
   "source": [
    "#plt.figure(figsize=(10,10))\n",
    "#for i in range(25):\n",
    "#    plt.subplot(5,5,5)\n",
    "#    plt.xticks([])\n",
    "#    plt.yticks([])\n",
    " #   plt.grid(False)\n",
    " #   plt.imshow(img_tensor, cmap=plt.cm.binary)\n",
    "#    plt.xlabel(labels[train_labels[2]])\n",
    "#plt.show()"
   ]
  },
  {
   "cell_type": "code",
   "execution_count": null,
   "metadata": {},
   "outputs": [],
   "source": [
    "#def plot_image(i, predictions_array, true_label, img):\n",
    "#  predictions_array, true_label, img = predictions_array, true_label[i], img[i]\n",
    "#  plt.grid(False)\n",
    "#  plt.xticks([])\n",
    "#  plt.yticks([])\n",
    "\n",
    "#  plt.imshow(img, cmap=plt.cm.binary)\n",
    "\n",
    " # predicted_label = np.argmax(predictions_array)\n",
    " # if predicted_label == true_label:\n",
    " #   color = 'blue'\n",
    " # else:\n",
    " #   color = 'red'\n",
    "\n",
    "  #plt.xlabel(\"{} {:2.0f}% ({})\".format(labels[predicted_label],\n",
    "   #                             100*np.max(predictions_array),\n",
    "   #                             labels[true_label]),\n",
    "   #                             color=color)"
   ]
  },
  {
   "cell_type": "code",
   "execution_count": null,
   "metadata": {},
   "outputs": [],
   "source": [
    "#i = 0\n",
    "#plt.figure(figsize=(6,3))\n",
    "#plt.subplot(1,2,1)\n",
    "#plot_image(i, y_prob[i], labels, img_tensor)\n",
    "#plt.show()"
   ]
  },
  {
   "cell_type": "code",
   "execution_count": null,
   "metadata": {},
   "outputs": [],
   "source": []
  }
 ],
 "metadata": {
  "kernelspec": {
   "display_name": "Python 3",
   "language": "python",
   "name": "python3"
  },
  "language_info": {
   "codemirror_mode": {
    "name": "ipython",
    "version": 3
   },
   "file_extension": ".py",
   "mimetype": "text/x-python",
   "name": "python",
   "nbconvert_exporter": "python",
   "pygments_lexer": "ipython3",
   "version": "3.7.7"
  }
 },
 "nbformat": 4,
 "nbformat_minor": 4
}
